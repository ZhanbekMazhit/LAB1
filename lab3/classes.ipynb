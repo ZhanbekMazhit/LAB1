{
 "cells": [
  {
   "cell_type": "code",
   "execution_count": 1,
   "metadata": {},
   "outputs": [
    {
     "name": "stdout",
     "output_type": "stream",
     "text": [
      "DIP\n"
     ]
    }
   ],
   "source": [
    "#EX1\n",
    "class stringIN_UP:\n",
    "    def __init__(self):\n",
    "        self.my_string = \"\"\n",
    "    \n",
    "    def getString(self):\n",
    "        self.my_string = input(\"Введите строку: \")\n",
    "\n",
    "    def printString(self):\n",
    "        print(self.my_string.upper())\n",
    "        \n",
    "my_object = stringIN_UP()\n",
    "\n",
    "my_object.getString()  \n",
    "my_object.printString()  "
   ]
  },
  {
   "cell_type": "code",
   "execution_count": 4,
   "metadata": {},
   "outputs": [
    {
     "name": "stdout",
     "output_type": "stream",
     "text": [
      "Площадь Shape: 0\n",
      "Площадь Square: 25\n"
     ]
    }
   ],
   "source": [
    "#EX2\n",
    "class Shape:\n",
    "    def __init__(self):\n",
    "        pass\n",
    "    \n",
    "    def area(self):\n",
    "        return 0\n",
    "    \n",
    "class Square(Shape):\n",
    "    def __init__(self,length):\n",
    "        self.length = length\n",
    "        \n",
    "    def area(self):\n",
    "        return self.length**2\n",
    "    \n",
    "shape=Shape()\n",
    "print(\"Площадь Shape:\", shape.area())\n",
    "\n",
    "k=int(input(\"print lenth:\"))\n",
    "square = Square(k)\n",
    "print(\"Площадь Square:\", square.area())"
   ]
  },
  {
   "cell_type": "code",
   "execution_count": 5,
   "metadata": {},
   "outputs": [
    {
     "name": "stdout",
     "output_type": "stream",
     "text": [
      "Площадь прямоугольника: 25\n"
     ]
    }
   ],
   "source": [
    "#EX3\n",
    "class Shape:\n",
    "    def __init__(self):\n",
    "        pass\n",
    "    \n",
    "    def area(self):\n",
    "        return 0\n",
    "    \n",
    "class Rectangle(Shape):\n",
    "    def __init__(self, length, width):\n",
    "        self.length = length\n",
    "        self.width = width\n",
    "    \n",
    "    def area(self):\n",
    "        return self.length * self.width\n",
    "\n",
    "length=int(input())\n",
    "width=int(input())\n",
    "rectangle=Rectangle(length,width)\n",
    "print(\"Площадь rectangle:\", rectangle.area())"
   ]
  },
  {
   "cell_type": "code",
   "execution_count": null,
   "metadata": {},
   "outputs": [],
   "source": [
    "#EX4\n",
    "import math\n",
    "\n",
    "class Point:\n",
    "    def __init__(self, x, y):\n",
    "        self.x = x\n",
    "        self.y = y\n",
    "    \n",
    "    def show(self):\n",
    "        print(f\"Точка: ({self.x}, {self.y})\")\n",
    "    \n",
    "    def move(self, dx, dy):\n",
    "        self.x += dx\n",
    "        self.y += dy\n",
    "    \n",
    "    def dist(self, other_point):\n",
    "        return math.sqrt((self.x - other_point.x) ** 2 + (self.y - other_point.y) ** 2)\n",
    "\n",
    "\n",
    "point1 = Point(3, 4)\n",
    "point2 = Point(6, 8)\n",
    "\n",
    "point1.show() \n",
    "point2.show()  \n",
    "\n",
    "print(\"Расстояние между точками:\", point1.dist(point2))  # Расстояние между точками: 5.0\n",
    "\n",
    "point1.move(2, -1)\n",
    "point1.show()  \n"
   ]
  },
  {
   "cell_type": "code",
   "execution_count": null,
   "metadata": {},
   "outputs": [],
   "source": [
    "#EX5\n",
    "class Account:\n",
    "    def __init__(self, owner, balance=0):\n",
    "        self.owner = owner\n",
    "        self.balance = balance\n",
    "    \n",
    "    def deposit(self, amount):\n",
    "        if amount > 0:\n",
    "            self.balance += amount\n",
    "            print(f\"Внесено: {amount}. Новый баланс: {self.balance}.\")\n",
    "        else:\n",
    "            print(\"Сумма для депозита должна быть положительной.\")\n",
    "    \n",
    "    def withdraw(self, amount):\n",
    "        if amount <= self.balance:\n",
    "            self.balance -= amount\n",
    "            print(f\"Снято: {amount}. Новый баланс: {self.balance}.\")\n",
    "        else:\n",
    "            print(\"Ошибка! Недостаточно средств на счете.\")\n",
    "    \n",
    "    def get_balance(self):\n",
    "        return self.balance\n",
    "\n",
    "\n",
    "account = Account(\"Иван\", 100)\n",
    "\n",
    "account.deposit(50)  \n",
    "account.deposit(30)  \n",
    "\n",
    "account.withdraw(70)  \n",
    "account.withdraw(200)\n",
    "\n",
    "\n",
    "print(\"Текущий баланс:\", account.get_balance()) "
   ]
  },
  {
   "cell_type": "code",
   "execution_count": 6,
   "metadata": {},
   "outputs": [
    {
     "name": "stdout",
     "output_type": "stream",
     "text": [
      "Простые числа: [2, 3, 5, 7]\n"
     ]
    }
   ],
   "source": [
    "#EX6\n",
    "is_prime = lambda x: x > 1 and all(x % i != 0 for i in range(2, int(x**0.5) + 1))\n",
    "\n",
    "k=input()\n",
    "numbers=list(map(int,k.split()))\n",
    "\n",
    "prime_numbers = list(filter(is_prime, numbers))\n",
    "\n",
    "print(\"Простые числа:\", prime_numbers)\n",
    "\n",
    "        "
   ]
  }
 ],
 "metadata": {
  "kernelspec": {
   "display_name": "venv",
   "language": "python",
   "name": "python3"
  },
  "language_info": {
   "codemirror_mode": {
    "name": "ipython",
    "version": 3
   },
   "file_extension": ".py",
   "mimetype": "text/x-python",
   "name": "python",
   "nbconvert_exporter": "python",
   "pygments_lexer": "ipython3",
   "version": "3.13.1"
  }
 },
 "nbformat": 4,
 "nbformat_minor": 2
}

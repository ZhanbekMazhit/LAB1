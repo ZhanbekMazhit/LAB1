{
 "cells": [
  {
   "cell_type": "code",
   "execution_count": 1,
   "metadata": {},
   "outputs": [
    {
     "name": "stdout",
     "output_type": "stream",
     "text": [
      "1814.3694784\n"
     ]
    }
   ],
   "source": [
    "#EX1\n",
    "def toOnces(k):\n",
    "    return k*28.3495231\n",
    "a=float(input(\"grams\"))\n",
    "print(toOnces(a))"
   ]
  },
  {
   "cell_type": "code",
   "execution_count": 8,
   "metadata": {},
   "outputs": [
    {
     "name": "stdout",
     "output_type": "stream",
     "text": [
      "-16.11\n",
      "0\n"
     ]
    }
   ],
   "source": [
    "#EX2\n",
    "def conversionTOc(f):\n",
    "    print('%.2f' % ((5/9)*(f-32)))\n",
    "    \n",
    "a=int(input())\n",
    "conversionTOc(a)\n"
   ]
  },
  {
   "cell_type": "code",
   "execution_count": 22,
   "metadata": {},
   "outputs": [
    {
     "name": "stdout",
     "output_type": "stream",
     "text": [
      "12.0 23.0\n"
     ]
    }
   ],
   "source": [
    "#EX3\n",
    "def solve(numheads, numlegs):\n",
    "    rabbits = (numlegs - 2 * numheads) / 2\n",
    "    chickens = numheads - rabbits\n",
    "    print (rabbits, chickens)\n",
    "\n",
    "        \n",
    "heads = int(input(\"Heads: \"))\n",
    "legs = int(input(\"Legs: \"))\n",
    "solve(heads,legs)"
   ]
  },
  {
   "cell_type": "code",
   "execution_count": 1,
   "metadata": {},
   "outputs": [
    {
     "name": "stdout",
     "output_type": "stream",
     "text": [
      "[2, 3, 5]\n"
     ]
    }
   ],
   "source": [
    "#EX4\n",
    "def primes(k):\n",
    "    o=0\n",
    "    for x in range(1, k+1):\n",
    "        if k%x==0:\n",
    "            o+=1\n",
    "    if o==2:\n",
    "        return True\n",
    "    else:\n",
    "        return False\n",
    "\n",
    "st1=input(\"print numbers\")\n",
    "st2=list(map(int,st1.split()))\n",
    "\n",
    "def filters(k):\n",
    "    return list(filter(primes,k))\n",
    "\n",
    "st3=filters(st2)\n",
    "print(st3)\n"
   ]
  },
  {
   "cell_type": "code",
   "execution_count": 7,
   "metadata": {},
   "outputs": [
    {
     "name": "stdout",
     "output_type": "stream",
     "text": [
      "p p 2 \n",
      "2 p p \n",
      "p 2 p \n"
     ]
    }
   ],
   "source": [
    "#EX5\n",
    "def acceptstring(str):\n",
    "    for i in range(len((str))):\n",
    "        for j in range(len((str))):\n",
    "            print(str[j-i],end=\" \")\n",
    "        print()\n",
    "\n",
    "k=str(input())\n",
    "acceptstring(k)\n",
    "\n",
    "\n",
    "        "
   ]
  },
  {
   "cell_type": "code",
   "execution_count": 2,
   "metadata": {},
   "outputs": [
    {
     "name": "stdout",
     "output_type": "stream",
     "text": [
      "are we "
     ]
    }
   ],
   "source": [
    "#EX6\n",
    "def naoborot(str):\n",
    "    n = str.split()\n",
    "    n.reverse()\n",
    "    for i in range(len(n)):\n",
    "        print(n[i], end = \" \")\n",
    "    \n",
    "\n",
    "string = input(\"Sentence: \")\n",
    "naoborot(string)\n"
   ]
  },
  {
   "cell_type": "code",
   "execution_count": 13,
   "metadata": {},
   "outputs": [
    {
     "data": {
      "text/plain": [
       "False"
      ]
     },
     "execution_count": 13,
     "metadata": {},
     "output_type": "execute_result"
    }
   ],
   "source": [
    "#EX7\n",
    "def has_33(nums):\n",
    "    i=0\n",
    "    count1=0\n",
    "    count2=0\n",
    "    for x in range(len(nums)-1):\n",
    "        if nums[x]==3 and nums[x+1]==3:\n",
    "            return True\n",
    "                \n",
    "    return False\n",
    "            \n",
    " \n",
    "a=input()   \n",
    "k=list(map(int,a.split()))\n",
    "has_33(k)"
   ]
  },
  {
   "cell_type": "code",
   "execution_count": 20,
   "metadata": {},
   "outputs": [
    {
     "name": "stdout",
     "output_type": "stream",
     "text": [
      "False\n"
     ]
    }
   ],
   "source": [
    "#EX8\n",
    "def spy_game(nums):\n",
    "    cnt=0\n",
    "    for x in range(len(nums)):\n",
    "        if nums[x]==0:\n",
    "            cnt+=1\n",
    "        if nums[x]==7 and cnt==2:\n",
    "            return True\n",
    "            \n",
    "    return False\n",
    "\n",
    "a=input()   \n",
    "k=list(map(int,a.split()))   \n",
    "print(spy_game(k)) "
   ]
  },
  {
   "cell_type": "code",
   "execution_count": 29,
   "metadata": {},
   "outputs": [
    {
     "name": "stdout",
     "output_type": "stream",
     "text": [
      "523.3333333333334\n"
     ]
    }
   ],
   "source": [
    "#EX9\n",
    "def VolOFsphere(k):\n",
    "    v=float((4/3) * 3.14 * k**3)\n",
    "    return v\n",
    "\n",
    "k=int(input())\n",
    "print(VolOFsphere(k))"
   ]
  },
  {
   "cell_type": "code",
   "execution_count": 53,
   "metadata": {},
   "outputs": [
    {
     "name": "stdout",
     "output_type": "stream",
     "text": [
      "1 "
     ]
    }
   ],
   "source": [
    "#EX10\n",
    "def unique_list(nums):\n",
    "    n = {}\n",
    "    for i in nums:\n",
    "        n[i] = n.get(i, 0) + 1\n",
    "    for key, value in n.items():\n",
    "        if value == 1:\n",
    "            print(key, end=\" \")\n",
    "\n",
    "\n",
    "numbers = input(\"Numbers: \")\n",
    "nums_list = list(map(int, numbers.split()))\n",
    "unique_list(nums_list)"
   ]
  },
  {
   "cell_type": "code",
   "execution_count": 64,
   "metadata": {},
   "outputs": [
    {
     "data": {
      "text/plain": [
       "True"
      ]
     },
     "execution_count": 64,
     "metadata": {},
     "output_type": "execute_result"
    }
   ],
   "source": [
    "#EX11\n",
    "def palindrome(k):\n",
    "    if len(k)>1:\n",
    "        for x in range(len(k)//2):\n",
    "            if k[x] != k[len(k)-x-1]:\n",
    "                return False\n",
    "        return True\n",
    "    else:\n",
    "        return True\n",
    "        \n",
    "\n",
    "k = str(input())\n",
    "palindrome(k)"
   ]
  },
  {
   "cell_type": "code",
   "execution_count": null,
   "metadata": {},
   "outputs": [
    {
     "name": "stdout",
     "output_type": "stream",
     "text": [
      "***\n",
      "****\n",
      "*****\n"
     ]
    }
   ],
   "source": [
    "#EX12\n",
    "def histogram(a):\n",
    "    i=0\n",
    "    for x in a:\n",
    "        for j in range(x):\n",
    "            print('*',end='')\n",
    "            i+=1\n",
    "        print()\n",
    "        i=0\n",
    "\n",
    "k = input()\n",
    "a=list(map(int,k.split()))\n",
    "histogram(a)"
   ]
  },
  {
   "cell_type": "code",
   "execution_count": 91,
   "metadata": {},
   "outputs": [
    {
     "name": "stdout",
     "output_type": "stream",
     "text": [
      "Hello! What is your name?\n",
      "Well, KBTU, I am thinking of a number between 1 and 20.\n",
      "Take a guess.\n",
      "10\n",
      "\n",
      "Your guess is too hight.\n",
      "Take a guess.\n",
      "5\n",
      "\n",
      "Your guess is too hight.\n",
      "Take a guess.\n",
      "2\n",
      "\n",
      "Your guess is too hight.\n",
      "Take a guess.\n",
      "1\n",
      "\n",
      "Good job, KBTU! You guessed my number in 4 guesses!\n"
     ]
    },
    {
     "data": {
      "text/plain": [
       "False"
      ]
     },
     "execution_count": 91,
     "metadata": {},
     "output_type": "execute_result"
    }
   ],
   "source": [
    "#EX13\n",
    "import random\n",
    "#r1=random.randint(1,20)\n",
    "def Guess_the_number(k):\n",
    "    cnt=1\n",
    "    print(f\"Well, {k}, I am thinking of a number between 1 and 20.\")\n",
    "    r1=random.randint(1,20)\n",
    "    while(True):\n",
    "        print(\"Take a guess.\")\n",
    "        t=int(input())\n",
    "        print(t)\n",
    "        print()\n",
    "        if t==r1:\n",
    "            print(f\"Good job, {k}! You guessed my number in {cnt} guesses!\")\n",
    "            return False\n",
    "        elif t<r1:\n",
    "            print(\"Your guess is too low.\")\n",
    "            cnt+=1\n",
    "        else:\n",
    "            print(\"Your guess is too hight.\")\n",
    "            cnt+=1\n",
    "\n",
    "    \n",
    "    \n",
    "\n",
    "print(\"Hello! What is your name?\")\n",
    "k=str(input())\n",
    "Guess_the_number(k)\n",
    "    "
   ]
  },
  {
   "cell_type": "markdown",
   "metadata": {},
   "source": [
    "'''def set2(l):\n",
    "    mp = []\n",
    "    seen = set()\n",
    "    \n",
    "    for i in l:\n",
    "        if i not in seen:\n",
    "            mp.append(i)\n",
    "            seen.add(i)\n",
    "    \n",
    "    print(mp)\n",
    "\n",
    "k = input()\n",
    "a = list(map(int, k.split()))\n",
    "set2(a)'''"
   ]
  }
 ],
 "metadata": {
  "kernelspec": {
   "display_name": "venv",
   "language": "python",
   "name": "python3"
  },
  "language_info": {
   "codemirror_mode": {
    "name": "ipython",
    "version": 3
   },
   "file_extension": ".py",
   "mimetype": "text/x-python",
   "name": "python",
   "nbconvert_exporter": "python",
   "pygments_lexer": "ipython3",
   "version": "3.13.1"
  }
 },
 "nbformat": 4,
 "nbformat_minor": 2
}
